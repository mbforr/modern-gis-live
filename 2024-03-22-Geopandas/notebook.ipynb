{
 "cells": [
  {
   "cell_type": "code",
   "execution_count": 1,
   "metadata": {},
   "outputs": [
    {
     "name": "stdout",
     "output_type": "stream",
     "text": [
      "\n",
      "\u001b[1m[\u001b[0m\u001b[34;49mnotice\u001b[0m\u001b[1;39;49m]\u001b[0m\u001b[39;49m A new release of pip is available: \u001b[0m\u001b[31;49m23.1.2\u001b[0m\u001b[39;49m -> \u001b[0m\u001b[32;49m24.0\u001b[0m\n",
      "\u001b[1m[\u001b[0m\u001b[34;49mnotice\u001b[0m\u001b[1;39;49m]\u001b[0m\u001b[39;49m To update, run: \u001b[0m\u001b[32;49mpython3.11 -m pip install --upgrade pip\u001b[0m\n",
      "Note: you may need to restart the kernel to use updated packages.\n"
     ]
    }
   ],
   "source": [
    "pip install pyarrow geopandas geoarrow-pyarrow geoarrow-pandas -q"
   ]
  },
  {
   "cell_type": "code",
   "execution_count": 1,
   "metadata": {},
   "outputs": [],
   "source": [
    "import geopandas as gpd"
   ]
  },
  {
   "cell_type": "markdown",
   "metadata": {},
   "source": [
    "# File Import Tests\n",
    "\n",
    "You can download the two files in this notebook here:\n",
    "\n",
    "- [2015 Tree Census](https://data.cityofnewyork.us/Environment/2015-Street-Tree-Census-Tree-Data/pi5s-9p35)\n",
    "- [2010 Census Block Groups](https://data.cityofnewyork.us/City-Government/2010-Census-Blocks/v2h8-6mxf)"
   ]
  },
  {
   "cell_type": "code",
   "execution_count": 3,
   "metadata": {},
   "outputs": [
    {
     "name": "stdout",
     "output_type": "stream",
     "text": [
      "CPU times: user 3min 19s, sys: 1min, total: 4min 20s\n",
      "Wall time: 4min 56s\n"
     ]
    }
   ],
   "source": [
    "%%time\n",
    "\n",
    "gdf = gpd.read_file('./trees.geojson')"
   ]
  },
  {
   "cell_type": "code",
   "execution_count": 25,
   "metadata": {},
   "outputs": [
    {
     "name": "stdout",
     "output_type": "stream",
     "text": [
      "CPU times: user 365 ms, sys: 230 ms, total: 595 ms\n",
      "Wall time: 570 ms\n"
     ]
    }
   ],
   "source": [
    "%%time\n",
    "\n",
    "df = gpd.read_parquet('./trees.parquet', columns=['health', 'geometry'])"
   ]
  },
  {
   "cell_type": "code",
   "execution_count": 9,
   "metadata": {},
   "outputs": [
    {
     "data": {
      "text/html": [
       "<div>\n",
       "<style scoped>\n",
       "    .dataframe tbody tr th:only-of-type {\n",
       "        vertical-align: middle;\n",
       "    }\n",
       "\n",
       "    .dataframe tbody tr th {\n",
       "        vertical-align: top;\n",
       "    }\n",
       "\n",
       "    .dataframe thead th {\n",
       "        text-align: right;\n",
       "    }\n",
       "</style>\n",
       "<table border=\"1\" class=\"dataframe\">\n",
       "  <thead>\n",
       "    <tr style=\"text-align: right;\">\n",
       "      <th></th>\n",
       "      <th>health</th>\n",
       "      <th>geometry</th>\n",
       "    </tr>\n",
       "  </thead>\n",
       "  <tbody>\n",
       "    <tr>\n",
       "      <th>count</th>\n",
       "      <td>652172</td>\n",
       "      <td>683788</td>\n",
       "    </tr>\n",
       "    <tr>\n",
       "      <th>unique</th>\n",
       "      <td>3</td>\n",
       "      <td>683352</td>\n",
       "    </tr>\n",
       "    <tr>\n",
       "      <th>top</th>\n",
       "      <td>Good</td>\n",
       "      <td>POINT (-73.76103529161729 40.660359381539436)</td>\n",
       "    </tr>\n",
       "    <tr>\n",
       "      <th>freq</th>\n",
       "      <td>528850</td>\n",
       "      <td>35</td>\n",
       "    </tr>\n",
       "  </tbody>\n",
       "</table>\n",
       "</div>"
      ],
      "text/plain": [
       "        health                                       geometry\n",
       "count   652172                                         683788\n",
       "unique       3                                         683352\n",
       "top       Good  POINT (-73.76103529161729 40.660359381539436)\n",
       "freq    528850                                             35"
      ]
     },
     "execution_count": 9,
     "metadata": {},
     "output_type": "execute_result"
    }
   ],
   "source": [
    "gdf.describe()"
   ]
  },
  {
   "cell_type": "markdown",
   "metadata": {},
   "source": [
    "# GeoArrow & lonboard"
   ]
  },
  {
   "cell_type": "code",
   "execution_count": 10,
   "metadata": {},
   "outputs": [],
   "source": [
    "import geoarrow.pyarrow as ga\n",
    "import geoarrow.pandas as _"
   ]
  },
  {
   "cell_type": "code",
   "execution_count": 12,
   "metadata": {},
   "outputs": [
    {
     "name": "stdout",
     "output_type": "stream",
     "text": [
      "CPU times: user 153 ms, sys: 25.5 ms, total: 179 ms\n",
      "Wall time: 199 ms\n"
     ]
    }
   ],
   "source": [
    "%%time\n",
    "array = ga.as_geoarrow(gdf.geometry)"
   ]
  },
  {
   "cell_type": "code",
   "execution_count": 13,
   "metadata": {},
   "outputs": [
    {
     "data": {
      "text/plain": [
       "PointArray:PointType(geoarrow.point <PROJJSON:{\"$schema\":\"https://proj....>)[683788]\n",
       "<POINT (-73.84421521958048 40.723091773924274)>\n",
       "<POINT (-73.81867945834878 40.79411066708779)>\n",
       "<POINT (-73.93660770459083 40.717580740099116)>\n",
       "<POINT (-73.93445615919741 40.713537494833226)>\n",
       "<POINT (-73.97597938483258 40.66677775537875)>\n",
       "...683778 values...\n",
       "<POINT (-73.95494401022562 40.7132107823145)>\n",
       "<POINT (-73.85665019989099 40.71519444267162)>\n",
       "<POINT (-74.13651724205825 40.62076152739799)>\n",
       "<POINT (-73.90311472453581 40.850828186655754)>\n",
       "<POINT (-73.78752645502483 40.73216525220126)>"
      ]
     },
     "execution_count": 13,
     "metadata": {},
     "output_type": "execute_result"
    }
   ],
   "source": [
    "array"
   ]
  },
  {
   "cell_type": "code",
   "execution_count": 31,
   "metadata": {},
   "outputs": [
    {
     "name": "stdout",
     "output_type": "stream",
     "text": [
      "\n",
      "\u001b[1m[\u001b[0m\u001b[34;49mnotice\u001b[0m\u001b[1;39;49m]\u001b[0m\u001b[39;49m A new release of pip is available: \u001b[0m\u001b[31;49m23.1.2\u001b[0m\u001b[39;49m -> \u001b[0m\u001b[32;49m24.0\u001b[0m\n",
      "\u001b[1m[\u001b[0m\u001b[34;49mnotice\u001b[0m\u001b[1;39;49m]\u001b[0m\u001b[39;49m To update, run: \u001b[0m\u001b[32;49mpython3.11 -m pip install --upgrade pip\u001b[0m\n",
      "Note: you may need to restart the kernel to use updated packages.\n"
     ]
    }
   ],
   "source": [
    "%pip install lonboard -q"
   ]
  },
  {
   "cell_type": "code",
   "execution_count": 14,
   "metadata": {},
   "outputs": [
    {
     "name": "stderr",
     "output_type": "stream",
     "text": [
      "/var/folders/wj/5qrl32td65j7gd1_kt8yrzd00000gn/T/ipykernel_97195/2058709175.py:1: DeprecationWarning: Importing display from IPython.core.display is deprecated since IPython 7.14, please import from IPython display\n",
      "  from IPython.core.display import display, HTML\n"
     ]
    }
   ],
   "source": [
    "from IPython.core.display import display, HTML"
   ]
  },
  {
   "cell_type": "markdown",
   "metadata": {},
   "source": [
    "⚠️ You may need to refresh your notebook after this to make sure the map loads"
   ]
  },
  {
   "cell_type": "code",
   "execution_count": 16,
   "metadata": {},
   "outputs": [
    {
     "name": "stdout",
     "output_type": "stream",
     "text": [
      "CPU times: user 243 ms, sys: 39.1 ms, total: 282 ms\n",
      "Wall time: 316 ms\n"
     ]
    },
    {
     "data": {
      "application/vnd.jupyter.widget-view+json": {
       "model_id": "84bc34587543439daebce2a06e233c92",
       "version_major": 2,
       "version_minor": 0
      },
      "text/plain": [
       "Map(basemap_style=<CartoBasemap.DarkMatter: 'https://basemaps.cartocdn.com/gl/dark-matter-gl-style/style.json'…"
      ]
     },
     "execution_count": 16,
     "metadata": {},
     "output_type": "execute_result"
    }
   ],
   "source": [
    "%%time\n",
    "\n",
    "from lonboard import viz\n",
    "\n",
    "viz(gdf)"
   ]
  },
  {
   "cell_type": "markdown",
   "metadata": {},
   "source": [
    "# Spatial Index & Join Predicate"
   ]
  },
  {
   "cell_type": "code",
   "execution_count": 27,
   "metadata": {},
   "outputs": [],
   "source": [
    "bgs = gpd.read_file('2010 Census Blocks.geojson')"
   ]
  },
  {
   "cell_type": "code",
   "execution_count": 38,
   "metadata": {},
   "outputs": [
    {
     "data": {
      "text/html": [
       "<div>\n",
       "<style scoped>\n",
       "    .dataframe tbody tr th:only-of-type {\n",
       "        vertical-align: middle;\n",
       "    }\n",
       "\n",
       "    .dataframe tbody tr th {\n",
       "        vertical-align: top;\n",
       "    }\n",
       "\n",
       "    .dataframe thead th {\n",
       "        text-align: right;\n",
       "    }\n",
       "</style>\n",
       "<table border=\"1\" class=\"dataframe\">\n",
       "  <thead>\n",
       "    <tr style=\"text-align: right;\">\n",
       "      <th></th>\n",
       "      <th>shape_area</th>\n",
       "      <th>cb2010</th>\n",
       "      <th>bctcb2010</th>\n",
       "      <th>shape_leng</th>\n",
       "      <th>boro_name</th>\n",
       "      <th>ct2010</th>\n",
       "      <th>boro_code</th>\n",
       "      <th>geometry</th>\n",
       "    </tr>\n",
       "  </thead>\n",
       "  <tbody>\n",
       "    <tr>\n",
       "      <th>0</th>\n",
       "      <td>244589.571777</td>\n",
       "      <td>1000</td>\n",
       "      <td>50009001000</td>\n",
       "      <td>2508.94793591</td>\n",
       "      <td>Staten Island</td>\n",
       "      <td>000900</td>\n",
       "      <td>5</td>\n",
       "      <td>MULTIPOLYGON (((-74.07921 40.64343, -74.07914 ...</td>\n",
       "    </tr>\n",
       "    <tr>\n",
       "      <th>1</th>\n",
       "      <td>111006.257729</td>\n",
       "      <td>1000</td>\n",
       "      <td>50020011000</td>\n",
       "      <td>1345.88642116</td>\n",
       "      <td>Staten Island</td>\n",
       "      <td>002001</td>\n",
       "      <td>5</td>\n",
       "      <td>MULTIPOLYGON (((-74.07062 40.61086, -74.07164 ...</td>\n",
       "    </tr>\n",
       "    <tr>\n",
       "      <th>2</th>\n",
       "      <td>150406.766022</td>\n",
       "      <td>1000</td>\n",
       "      <td>50027001000</td>\n",
       "      <td>1703.38117241</td>\n",
       "      <td>Staten Island</td>\n",
       "      <td>002700</td>\n",
       "      <td>5</td>\n",
       "      <td>MULTIPOLYGON (((-74.07524 40.62601, -74.07750 ...</td>\n",
       "    </tr>\n",
       "    <tr>\n",
       "      <th>3</th>\n",
       "      <td>141296.561149</td>\n",
       "      <td>1000</td>\n",
       "      <td>50040001000</td>\n",
       "      <td>1511.17374266</td>\n",
       "      <td>Staten Island</td>\n",
       "      <td>004000</td>\n",
       "      <td>5</td>\n",
       "      <td>MULTIPOLYGON (((-74.08709 40.61117, -74.08795 ...</td>\n",
       "    </tr>\n",
       "    <tr>\n",
       "      <th>4</th>\n",
       "      <td>200784.982138</td>\n",
       "      <td>1000</td>\n",
       "      <td>50064001000</td>\n",
       "      <td>1978.24389924</td>\n",
       "      <td>Staten Island</td>\n",
       "      <td>006400</td>\n",
       "      <td>5</td>\n",
       "      <td>MULTIPOLYGON (((-74.07644 40.60100, -74.07670 ...</td>\n",
       "    </tr>\n",
       "  </tbody>\n",
       "</table>\n",
       "</div>"
      ],
      "text/plain": [
       "      shape_area cb2010    bctcb2010     shape_leng      boro_name  ct2010  \\\n",
       "0  244589.571777   1000  50009001000  2508.94793591  Staten Island  000900   \n",
       "1  111006.257729   1000  50020011000  1345.88642116  Staten Island  002001   \n",
       "2  150406.766022   1000  50027001000  1703.38117241  Staten Island  002700   \n",
       "3  141296.561149   1000  50040001000  1511.17374266  Staten Island  004000   \n",
       "4  200784.982138   1000  50064001000  1978.24389924  Staten Island  006400   \n",
       "\n",
       "  boro_code                                           geometry  \n",
       "0         5  MULTIPOLYGON (((-74.07921 40.64343, -74.07914 ...  \n",
       "1         5  MULTIPOLYGON (((-74.07062 40.61086, -74.07164 ...  \n",
       "2         5  MULTIPOLYGON (((-74.07524 40.62601, -74.07750 ...  \n",
       "3         5  MULTIPOLYGON (((-74.08709 40.61117, -74.08795 ...  \n",
       "4         5  MULTIPOLYGON (((-74.07644 40.60100, -74.07670 ...  "
      ]
     },
     "execution_count": 38,
     "metadata": {},
     "output_type": "execute_result"
    }
   ],
   "source": [
    "bgs.head()"
   ]
  },
  {
   "cell_type": "code",
   "execution_count": 29,
   "metadata": {},
   "outputs": [
    {
     "name": "stderr",
     "output_type": "stream",
     "text": [
      "/Library/Frameworks/Python.framework/Versions/3.11/lib/python3.11/site-packages/geopandas/geodataframe.py:2187: UserWarning: CRS mismatch between the CRS of left geometries and the CRS of right geometries.\n",
      "Use `to_crs()` to reproject one of the input geometries to match the CRS of the other.\n",
      "\n",
      "Left CRS: OGC:CRS84\n",
      "Right CRS: EPSG:4326\n",
      "\n",
      "  return geopandas.sjoin(left_df=self, right_df=df, *args, **kwargs)  # noqa: B026\n"
     ]
    },
    {
     "name": "stdout",
     "output_type": "stream",
     "text": [
      "CPU times: user 1.46 s, sys: 187 ms, total: 1.65 s\n",
      "Wall time: 1.74 s\n"
     ]
    }
   ],
   "source": [
    "%%time\n",
    "join = gdf.sjoin(bgs)"
   ]
  },
  {
   "cell_type": "code",
   "execution_count": 28,
   "metadata": {},
   "outputs": [
    {
     "name": "stderr",
     "output_type": "stream",
     "text": [
      "/Library/Frameworks/Python.framework/Versions/3.11/lib/python3.11/site-packages/geopandas/geodataframe.py:2187: UserWarning: CRS mismatch between the CRS of left geometries and the CRS of right geometries.\n",
      "Use `to_crs()` to reproject one of the input geometries to match the CRS of the other.\n",
      "\n",
      "Left CRS: OGC:CRS84\n",
      "Right CRS: EPSG:4326\n",
      "\n",
      "  return geopandas.sjoin(left_df=self, right_df=df, *args, **kwargs)  # noqa: B026\n"
     ]
    },
    {
     "name": "stdout",
     "output_type": "stream",
     "text": [
      "CPU times: user 522 ms, sys: 55.2 ms, total: 578 ms\n",
      "Wall time: 632 ms\n"
     ]
    }
   ],
   "source": [
    "%%time\n",
    "join = gdf.sjoin(bgs, predicate='contains')"
   ]
  },
  {
   "cell_type": "code",
   "execution_count": 30,
   "metadata": {},
   "outputs": [
    {
     "data": {
      "text/plain": [
       "False"
      ]
     },
     "execution_count": 30,
     "metadata": {},
     "output_type": "execute_result"
    }
   ],
   "source": [
    "gdf.has_sindex"
   ]
  },
  {
   "cell_type": "code",
   "execution_count": 32,
   "metadata": {},
   "outputs": [
    {
     "data": {
      "text/plain": [
       "<geopandas.sindex.PyGEOSSTRTreeIndex at 0x168252e50>"
      ]
     },
     "execution_count": 32,
     "metadata": {},
     "output_type": "execute_result"
    }
   ],
   "source": [
    "gdf.sindex"
   ]
  },
  {
   "cell_type": "code",
   "execution_count": 33,
   "metadata": {},
   "outputs": [
    {
     "data": {
      "text/plain": [
       "True"
      ]
     },
     "execution_count": 33,
     "metadata": {},
     "output_type": "execute_result"
    }
   ],
   "source": [
    "gdf.has_sindex"
   ]
  },
  {
   "cell_type": "code",
   "execution_count": 35,
   "metadata": {},
   "outputs": [
    {
     "name": "stdout",
     "output_type": "stream",
     "text": [
      "CPU times: user 562 ms, sys: 19.8 ms, total: 582 ms\n",
      "Wall time: 604 ms\n"
     ]
    }
   ],
   "source": [
    "%%time\n",
    "join = gdf.geometry.sindex.query(bgs.geometry, predicate='contains')"
   ]
  },
  {
   "cell_type": "code",
   "execution_count": 36,
   "metadata": {},
   "outputs": [
    {
     "data": {
      "text/plain": [
       "<geopandas.sindex.PyGEOSSTRTreeIndex at 0x147d8cc10>"
      ]
     },
     "execution_count": 36,
     "metadata": {},
     "output_type": "execute_result"
    }
   ],
   "source": [
    "bgs.sindex"
   ]
  },
  {
   "cell_type": "code",
   "execution_count": 37,
   "metadata": {},
   "outputs": [
    {
     "data": {
      "text/plain": [
       "True"
      ]
     },
     "execution_count": 37,
     "metadata": {},
     "output_type": "execute_result"
    }
   ],
   "source": [
    "bgs.has_sindex"
   ]
  },
  {
   "cell_type": "code",
   "execution_count": 38,
   "metadata": {},
   "outputs": [
    {
     "name": "stderr",
     "output_type": "stream",
     "text": [
      "/Library/Frameworks/Python.framework/Versions/3.11/lib/python3.11/site-packages/geopandas/geodataframe.py:2187: UserWarning: CRS mismatch between the CRS of left geometries and the CRS of right geometries.\n",
      "Use `to_crs()` to reproject one of the input geometries to match the CRS of the other.\n",
      "\n",
      "Left CRS: EPSG:4326\n",
      "Right CRS: OGC:CRS84\n",
      "\n",
      "  return geopandas.sjoin(left_df=self, right_df=df, *args, **kwargs)  # noqa: B026\n"
     ]
    },
    {
     "name": "stdout",
     "output_type": "stream",
     "text": [
      "CPU times: user 1.01 s, sys: 216 ms, total: 1.22 s\n",
      "Wall time: 1.35 s\n"
     ]
    }
   ],
   "source": [
    "%%time\n",
    "join = bgs.sjoin(df)"
   ]
  },
  {
   "cell_type": "code",
   "execution_count": 41,
   "metadata": {},
   "outputs": [
    {
     "data": {
      "text/html": [
       "<div>\n",
       "<style scoped>\n",
       "    .dataframe tbody tr th:only-of-type {\n",
       "        vertical-align: middle;\n",
       "    }\n",
       "\n",
       "    .dataframe tbody tr th {\n",
       "        vertical-align: top;\n",
       "    }\n",
       "\n",
       "    .dataframe thead th {\n",
       "        text-align: right;\n",
       "    }\n",
       "</style>\n",
       "<table border=\"1\" class=\"dataframe\">\n",
       "  <thead>\n",
       "    <tr style=\"text-align: right;\">\n",
       "      <th></th>\n",
       "      <th>shape_area</th>\n",
       "      <th>cb2010</th>\n",
       "      <th>bctcb2010</th>\n",
       "      <th>shape_leng</th>\n",
       "      <th>boro_name</th>\n",
       "      <th>ct2010</th>\n",
       "      <th>boro_code</th>\n",
       "      <th>geometry</th>\n",
       "      <th>index_right</th>\n",
       "      <th>health</th>\n",
       "    </tr>\n",
       "  </thead>\n",
       "  <tbody>\n",
       "    <tr>\n",
       "      <th>0</th>\n",
       "      <td>244589.571777</td>\n",
       "      <td>1000</td>\n",
       "      <td>50009001000</td>\n",
       "      <td>2508.94793591</td>\n",
       "      <td>Staten Island</td>\n",
       "      <td>000900</td>\n",
       "      <td>5</td>\n",
       "      <td>MULTIPOLYGON (((-74.07921 40.64343, -74.07914 ...</td>\n",
       "      <td>604321</td>\n",
       "      <td>Good</td>\n",
       "    </tr>\n",
       "    <tr>\n",
       "      <th>0</th>\n",
       "      <td>244589.571777</td>\n",
       "      <td>1000</td>\n",
       "      <td>50009001000</td>\n",
       "      <td>2508.94793591</td>\n",
       "      <td>Staten Island</td>\n",
       "      <td>000900</td>\n",
       "      <td>5</td>\n",
       "      <td>MULTIPOLYGON (((-74.07921 40.64343, -74.07914 ...</td>\n",
       "      <td>599063</td>\n",
       "      <td>Good</td>\n",
       "    </tr>\n",
       "    <tr>\n",
       "      <th>0</th>\n",
       "      <td>244589.571777</td>\n",
       "      <td>1000</td>\n",
       "      <td>50009001000</td>\n",
       "      <td>2508.94793591</td>\n",
       "      <td>Staten Island</td>\n",
       "      <td>000900</td>\n",
       "      <td>5</td>\n",
       "      <td>MULTIPOLYGON (((-74.07921 40.64343, -74.07914 ...</td>\n",
       "      <td>233374</td>\n",
       "      <td>Good</td>\n",
       "    </tr>\n",
       "    <tr>\n",
       "      <th>0</th>\n",
       "      <td>244589.571777</td>\n",
       "      <td>1000</td>\n",
       "      <td>50009001000</td>\n",
       "      <td>2508.94793591</td>\n",
       "      <td>Staten Island</td>\n",
       "      <td>000900</td>\n",
       "      <td>5</td>\n",
       "      <td>MULTIPOLYGON (((-74.07921 40.64343, -74.07914 ...</td>\n",
       "      <td>331024</td>\n",
       "      <td>Good</td>\n",
       "    </tr>\n",
       "    <tr>\n",
       "      <th>0</th>\n",
       "      <td>244589.571777</td>\n",
       "      <td>1000</td>\n",
       "      <td>50009001000</td>\n",
       "      <td>2508.94793591</td>\n",
       "      <td>Staten Island</td>\n",
       "      <td>000900</td>\n",
       "      <td>5</td>\n",
       "      <td>MULTIPOLYGON (((-74.07921 40.64343, -74.07914 ...</td>\n",
       "      <td>329004</td>\n",
       "      <td>Good</td>\n",
       "    </tr>\n",
       "  </tbody>\n",
       "</table>\n",
       "</div>"
      ],
      "text/plain": [
       "      shape_area cb2010    bctcb2010     shape_leng      boro_name  ct2010  \\\n",
       "0  244589.571777   1000  50009001000  2508.94793591  Staten Island  000900   \n",
       "0  244589.571777   1000  50009001000  2508.94793591  Staten Island  000900   \n",
       "0  244589.571777   1000  50009001000  2508.94793591  Staten Island  000900   \n",
       "0  244589.571777   1000  50009001000  2508.94793591  Staten Island  000900   \n",
       "0  244589.571777   1000  50009001000  2508.94793591  Staten Island  000900   \n",
       "\n",
       "  boro_code                                           geometry  index_right  \\\n",
       "0         5  MULTIPOLYGON (((-74.07921 40.64343, -74.07914 ...       604321   \n",
       "0         5  MULTIPOLYGON (((-74.07921 40.64343, -74.07914 ...       599063   \n",
       "0         5  MULTIPOLYGON (((-74.07921 40.64343, -74.07914 ...       233374   \n",
       "0         5  MULTIPOLYGON (((-74.07921 40.64343, -74.07914 ...       331024   \n",
       "0         5  MULTIPOLYGON (((-74.07921 40.64343, -74.07914 ...       329004   \n",
       "\n",
       "  health  \n",
       "0   Good  \n",
       "0   Good  \n",
       "0   Good  \n",
       "0   Good  \n",
       "0   Good  "
      ]
     },
     "execution_count": 41,
     "metadata": {},
     "output_type": "execute_result"
    }
   ],
   "source": [
    "join.head()"
   ]
  },
  {
   "cell_type": "code",
   "execution_count": 40,
   "metadata": {},
   "outputs": [
    {
     "name": "stderr",
     "output_type": "stream",
     "text": [
      "/Library/Frameworks/Python.framework/Versions/3.11/lib/python3.11/site-packages/geopandas/geodataframe.py:2187: UserWarning: CRS mismatch between the CRS of left geometries and the CRS of right geometries.\n",
      "Use `to_crs()` to reproject one of the input geometries to match the CRS of the other.\n",
      "\n",
      "Left CRS: EPSG:4326\n",
      "Right CRS: OGC:CRS84\n",
      "\n",
      "  return geopandas.sjoin(left_df=self, right_df=df, *args, **kwargs)  # noqa: B026\n"
     ]
    },
    {
     "name": "stdout",
     "output_type": "stream",
     "text": [
      "CPU times: user 1.01 s, sys: 204 ms, total: 1.22 s\n",
      "Wall time: 1.4 s\n"
     ]
    }
   ],
   "source": [
    "%%time\n",
    "join = bgs.sjoin(gdf, predicate='contains')"
   ]
  },
  {
   "cell_type": "code",
   "execution_count": 43,
   "metadata": {},
   "outputs": [
    {
     "name": "stdout",
     "output_type": "stream",
     "text": [
      "CPU times: user 432 ms, sys: 64.6 ms, total: 497 ms\n",
      "Wall time: 530 ms\n"
     ]
    }
   ],
   "source": [
    "%%time\n",
    "join = bgs.geometry.sindex.query(gdf.geometry, predicate='contains')"
   ]
  },
  {
   "cell_type": "code",
   "execution_count": 59,
   "metadata": {},
   "outputs": [
    {
     "data": {
      "text/plain": [
       "array([[     0,      1,      2, ..., 683785, 683786, 683787],\n",
       "       [ 20912,  20658,  10029, ...,   2141,  12078,  16808]])"
      ]
     },
     "execution_count": 59,
     "metadata": {},
     "output_type": "execute_result"
    }
   ],
   "source": [
    "join"
   ]
  }
 ],
 "metadata": {
  "kernelspec": {
   "display_name": "Python 3 (ipykernel)",
   "language": "python",
   "name": "python3"
  },
  "language_info": {
   "codemirror_mode": {
    "name": "ipython",
    "version": 3
   },
   "file_extension": ".py",
   "mimetype": "text/x-python",
   "name": "python",
   "nbconvert_exporter": "python",
   "pygments_lexer": "ipython3",
   "version": "3.11.5"
  }
 },
 "nbformat": 4,
 "nbformat_minor": 4
}
